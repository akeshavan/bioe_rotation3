{
 "metadata": {
  "keep_code": true,
  "name": "",
  "signature": "sha256:595840df27868c72431d4c45e287a8246cf80cbafb05f2878a9234b475b19b61"
 },
 "nbformat": 3,
 "nbformat_minor": 0,
 "worksheets": [
  {
   "cells": [
    {
     "cell_type": "heading",
     "level": 3,
     "metadata": {},
     "source": [
      "Background"
     ]
    },
    {
     "cell_type": "markdown",
     "metadata": {},
     "source": [
      "Today I am refactoring (revamping) the code that simulates data for the multisite study. There are many reasons for doing this: \n",
      "\n",
      "The first is that I want to be able to use the code that models and calibrates the data on actual, real-life data when we do get it. The modelling/calibration functions depend on the data structure of the simulated data, which is simply a python dictionary. We'd have to convert the csv/excel file of the real data to our dictionary structure, but it isn't very easy/intuitive to manipulate compared to an excel file, for example. Thankfully, the python library pandas is excellent for importing and exporting csv/excel/tab delimited files. Working with pandas structures from csv files is very similar to excel and it will be easier to manipulate the data this way (sort, index/query).\n",
      "\n",
      "Separating/modularizing the simulation steps from the calibration/analysis steps is advantageous because then we can write new simulation modules while keeping the calibration/analysis the same. In the same way, we can write new analysis/calibration modules without confusing ourselves with the simulation. It is overwhelming to see code for simulation, calibration, and the different models all in the same script.\n",
      "\n",
      "Finally, the functions that bootstrap the analysis are simply for loops that can get rather clunky, and it takes some time to switch to run on the cluster. It would be nice to easily switch between running the bootstrapping serially or on the grid. Nipype is the perfect platform to use because it takes just one line of code to switch the way the analysis is run. Another advantage is that once we generate the data, we don't need to regenerate, because of nipype's built in caching.\n",
      "\n",
      "The steps will be as follows:\n",
      "\n",
      "1. An interface that generates data for one site. Do not focus on bootstrapping yet. Should create a pandas dataframe object.\n",
      "2. An interface that combines data for more than one site. Again, returns a dataframe object\n",
      "3. A structure with built-in visualization methods for any dataframe (real or simulated). This will be useful to quickly generate stats/plots of our data before analysis.\n",
      "4. Test that the interfaces can be iterable via a nipype workflow.\n",
      "\n",
      "We start with some imports:"
     ]
    },
    {
     "cell_type": "code",
     "collapsed": false,
     "input": [
      "import traits.api as tr\n",
      "import numpy as np\n",
      "import statsmodels.api as sm\n",
      "import pandas as pd\n",
      "from nipype.interfaces.base import BaseInterface, BaseInterfaceInputSpec, TraitedSpec\n",
      "from nipype.interfaces.traits_extension import isdefined\n",
      "import scipy.stats as stats\n",
      "import prettyplotlib as ppl\n",
      "import seaborn as sns\n",
      "from IPython.display import Image\n",
      "%pylab inline"
     ],
     "language": "python",
     "metadata": {},
     "outputs": [
      {
       "output_type": "stream",
       "stream": "stdout",
       "text": [
        "Populating the interactive namespace from numpy and matplotlib\n"
       ]
      }
     ],
     "prompt_number": 32
    },
    {
     "cell_type": "markdown",
     "metadata": {},
     "source": [
      "For version 0 of our simulation, we define an input class:"
     ]
    },
    {
     "cell_type": "code",
     "collapsed": false,
     "input": [
      "class simInput(BaseInterfaceInputSpec):\n",
      "    \"\"\"\n",
      "    We define a set of parameters to generate subjects at a given site. \n",
      "    Each site has healthy controls (hc), patients with MS (ms) and\n",
      "    multisite controls (mhc). We also must define an EDSS distribution\n",
      "    at each site, as well as individual and scanner variabilities. Finally,\n",
      "    we define relationships between our dependent variable (brain volume BV) and\n",
      "    age, edss etc.\n",
      "    \"\"\"\n",
      "    # Age ranges\n",
      "    age_hc_range = tr.Tuple(tr.Float(20.0),tr.Float(50.0),usedefault=True)\n",
      "    age_ms_range = tr.Tuple(tr.Float(20.0),tr.Float(50.0),usedefault=True)\n",
      "    age_mhc_range = tr.Tuple(tr.Float(20.0),tr.Float(50.0),usedefault=True)\n",
      "    \n",
      "    #Number of subjects\n",
      "    n_hc = tr.Int(50,usedefault=True)\n",
      "    n_ms = tr.Int(250,usedefault=True)\n",
      "    n_mhc = tr.Int(10,usedefault=True)\n",
      "    n_mhc_scans = tr.Int(2,usedefault=True)\n",
      "    \n",
      "    # Distribution parameters\n",
      "    d_dist = tr.Float(0.88,usedefault=True)\n",
      "    sig_b = tr.Float(57,usedefault=True)\n",
      "    sig_s = tr.Float(16,usedefault=True)\n",
      "    \n",
      "    # Coefficients\n",
      "    alpha_a = tr.Float(-3,usedefault=True)\n",
      "    alpha_d = tr.Float(-16,usedefault=True)\n",
      "    b0 = tr.Float(1644,usedefault=True)\n",
      "    alpha = tr.Float(0.9,usedefault=True)\n",
      "    gamma = tr.Float(20,usedefault=True)\n",
      "    \n",
      "    #HC Bias parameters\n",
      "    alpha_hc = tr.Float(1,usedefault=True)\n",
      "    gamma_hc = tr.Float(0,usedefault=True)\n",
      "    \n",
      "    #EDSS Distribution parameters\n",
      "    lo_mean = tr.Float(2.0,usedefault=True)\n",
      "    hi_mean = tr.Float(6.0,usedefault=True)\n",
      "    lo_sig = tr.Float(1.1,usedefault=True)\n",
      "    hi_sig = tr.Float(0.8,usedefault=True)\n",
      "    \n",
      "    #Name\n",
      "    sid = tr.String(\"Site1\")"
     ],
     "language": "python",
     "metadata": {},
     "outputs": [],
     "prompt_number": 38
    },
    {
     "cell_type": "markdown",
     "metadata": {},
     "source": [
      "Then we define outputs: the only one that matters is the dataframe df which should be a pandas dataframe, but I'm not sure how to specify that with traits (will google that later)"
     ]
    },
    {
     "cell_type": "code",
     "collapsed": false,
     "input": [
      "class simOutput(TraitedSpec):\n",
      "\n",
      "    df = tr.Any()\n",
      "    scan = tr.Tuple(desc=\"args to Function that takes real BV and returns scanned BV\")\n",
      "    \n",
      "    def _repr_html_(self):\n",
      "        return self.df.describe()._repr_html_()\n",
      "    \n",
      "    "
     ],
     "language": "python",
     "metadata": {},
     "outputs": [],
     "prompt_number": 50
    },
    {
     "cell_type": "markdown",
     "metadata": {},
     "source": [
      "Write a function that generates \"real\" brain volumes that haven't been scanned yet. Scanning adds scaling and variance, as explained in previous notebooks."
     ]
    },
    {
     "cell_type": "code",
     "collapsed": false,
     "input": [
      "def generate_real_BV(ages,alpha_a=-3,b0=1644,edss=None,alpha_d=-16,sig_b = 57):\n",
      "    if edss == None:\n",
      "        edss = np.zeros(len(ages))\n",
      "    BV_real = alpha_a*ages + alpha_d*edss + np.random.normal(b0,sig_b,len(ages))\n",
      "    return BV_real"
     ],
     "language": "python",
     "metadata": {},
     "outputs": [],
     "prompt_number": 40
    },
    {
     "cell_type": "markdown",
     "metadata": {},
     "source": [
      "Below is a function that returns a scaner function which transforms the brain volume data:"
     ]
    },
    {
     "cell_type": "code",
     "collapsed": false,
     "input": [
      "def get_scan_function(alpha,gamma,sig_s):\n",
      "    def scanner_func(x): \n",
      "        return alpha * x + np.random.normal(gamma,sig_s,len(x))\n",
      "    return scanner_func"
     ],
     "language": "python",
     "metadata": {},
     "outputs": [],
     "prompt_number": 41
    },
    {
     "cell_type": "markdown",
     "metadata": {},
     "source": [
      "Now we create the simulation interface. It takes the input parameters and generates the output parameters. We use the nipype base interface class so that we have caching and multiprocessing plugins built in."
     ]
    },
    {
     "cell_type": "code",
     "collapsed": false,
     "input": [
      "class sim(BaseInterface):\n",
      "    input_spec = simInput\n",
      "    output_spec = simOutput\n",
      "    \n",
      "    def _run_interface(self,runtime):\n",
      "        return runtime\n",
      "    \n",
      "    def _sim_data(self):\n",
      "        o = {}#self._outputs().get()\n",
      "        o['age_hc'] = np.linspace(*self.inputs.age_hc_range,\n",
      "                                          num = self.inputs.n_hc)\n",
      "        o['age_ms'] = np.linspace(*self.inputs.age_ms_range,\n",
      "                                  num = self.inputs.n_ms)\n",
      "        o['edss'] = (np.random.binomial(1,self.inputs.d_dist,self.inputs.n_ms)*\\\n",
      "                    np.random.normal(self.inputs.lo_mean,self.inputs.lo_sig,self.inputs.n_ms) +\\\n",
      "                    np.random.binomial(1,1-self.inputs.d_dist,self.inputs.n_ms)*\\\n",
      "                    np.random.normal(self.inputs.hi_mean,self.inputs.hi_sig,\n",
      "                                     self.inputs.n_ms))\n",
      "        o['edss'][o['edss']<0] = 0 #EDSS Cannot be below 0\n",
      "        o['edss'][o['edss']>10] = 10 #EDSS Cannot be >10\n",
      "        \n",
      "        Pr_lo = stats.norm.pdf((o[\"edss\"] - 2)/1.1)\n",
      "        Pr_hi = stats.norm.pdf((o[\"edss\"] - 6)/0.8)\n",
      "        o[\"llr\"] = np.log(Pr_lo/Pr_hi) > 0\n",
      "\n",
      "\n",
      "        BV_hc_real = generate_real_BV(o['age_hc'],\n",
      "                                      self.inputs.alpha_a,\n",
      "                                      self.inputs.b0,\n",
      "                                      None,\n",
      "                                      self.inputs.alpha_d,\n",
      "                                      self.inputs.sig_b)\n",
      "                    \n",
      "        BV_hc_real = self.inputs.alpha_hc * BV_hc_real + self.inputs.gamma_hc\n",
      "        o['BV_hc'] = self.inputs.alpha * BV_hc_real + \\\n",
      "                       self.inputs.gamma + np.random.normal(0,self.inputs.sig_s,\n",
      "                                                            self.inputs.n_hc)\n",
      "\n",
      "        BV_ms_real = generate_real_BV(o['age_ms'],\n",
      "                                      self.inputs.alpha_a,\n",
      "                                      self.inputs.b0,\n",
      "                                      o['edss'],\n",
      "                                      self.inputs.alpha_d,\n",
      "                                      self.inputs.sig_b)\n",
      "\n",
      "        o['BV_ms'] = self.inputs.alpha * BV_ms_real + self.inputs.gamma + \\\n",
      "                       np.random.normal(0,self.inputs.sig_s, self.inputs.n_ms)\n",
      "            \n",
      "        return o\n",
      "\n",
      "    def get_df(self,o):\n",
      "        #o = self.get()\n",
      "        n_ms = self.inputs.n_ms\n",
      "        n_hc = self.inputs.n_hc\n",
      "        p = {}\n",
      "        p['subject'] = [\"%s_%03d\"%(self.inputs.sid,d) for d in range(n_ms+n_hc)]\n",
      "        p['subject_type'] = np.hstack(([\"MS\"]*n_ms,[\"HC\"]*n_hc))\n",
      "        p['age'] = np.hstack((o['age_ms'],o['age_hc']))\n",
      "        p['edss'] = np.hstack((o['edss'],np.ones(n_hc)*np.nan))\n",
      "        p['edss_group'] = np.hstack((o['llr'],np.ones(n_hc)*np.nan))\n",
      "        p['BV'] = np.hstack((o['BV_ms'],o['BV_hc']))\n",
      "        df = pd.DataFrame(data=p)\n",
      "        self.df = df\n",
      "        return df\n",
      "    \n",
      "    def _list_outputs(self):\n",
      "        o = self._outputs().get()\n",
      "        p = self._sim_data()\n",
      "        \n",
      "        o['df'] = self.get_df(p)\n",
      "        o['scan'] = (self.inputs.alpha,\n",
      "                     self.inputs.gamma,\n",
      "                     self.inputs.sig_s)\n",
      "\n",
      "        return o"
     ],
     "language": "python",
     "metadata": {},
     "outputs": [],
     "prompt_number": 48
    },
    {
     "cell_type": "markdown",
     "metadata": {},
     "source": [
      "Now we can creats sites with different populations, for example UCSF which has the default parameters, Milan has fewer subjects and a different spread of EDSS scores, and Basel which has different scaling and offset measures."
     ]
    },
    {
     "cell_type": "code",
     "collapsed": false,
     "input": [
      "ucsf = sim(sid=\"ucsf\").run()\n",
      "ucsf.outputs"
     ],
     "language": "python",
     "metadata": {},
     "outputs": [
      {
       "html": [
        "<div style=\"max-height:1000px;max-width:1500px;overflow:auto;\">\n",
        "<table border=\"1\" class=\"dataframe\">\n",
        "  <thead>\n",
        "    <tr style=\"text-align: right;\">\n",
        "      <th></th>\n",
        "      <th>BV</th>\n",
        "      <th>age</th>\n",
        "      <th>edss</th>\n",
        "      <th>edss_group</th>\n",
        "    </tr>\n",
        "  </thead>\n",
        "  <tbody>\n",
        "    <tr>\n",
        "      <th>count</th>\n",
        "      <td>  300.000000</td>\n",
        "      <td> 300.000000</td>\n",
        "      <td> 250.000000</td>\n",
        "      <td> 250.000000</td>\n",
        "    </tr>\n",
        "    <tr>\n",
        "      <th>mean</th>\n",
        "      <td> 1372.842537</td>\n",
        "      <td>  35.000000</td>\n",
        "      <td>   2.681227</td>\n",
        "      <td>   0.860000</td>\n",
        "    </tr>\n",
        "    <tr>\n",
        "      <th>std</th>\n",
        "      <td>   70.782370</td>\n",
        "      <td>   8.733066</td>\n",
        "      <td>   2.492559</td>\n",
        "      <td>   0.347683</td>\n",
        "    </tr>\n",
        "    <tr>\n",
        "      <th>min</th>\n",
        "      <td> 1092.770427</td>\n",
        "      <td>  20.000000</td>\n",
        "      <td>   0.000000</td>\n",
        "      <td>   0.000000</td>\n",
        "    </tr>\n",
        "    <tr>\n",
        "      <th>25%</th>\n",
        "      <td> 1327.979250</td>\n",
        "      <td>  27.439759</td>\n",
        "      <td>   1.062511</td>\n",
        "      <td>   1.000000</td>\n",
        "    </tr>\n",
        "    <tr>\n",
        "      <th>50%</th>\n",
        "      <td> 1373.524218</td>\n",
        "      <td>  35.000000</td>\n",
        "      <td>   2.174608</td>\n",
        "      <td>   1.000000</td>\n",
        "    </tr>\n",
        "    <tr>\n",
        "      <th>75%</th>\n",
        "      <td> 1415.006528</td>\n",
        "      <td>  42.560241</td>\n",
        "      <td>   3.139924</td>\n",
        "      <td>   1.000000</td>\n",
        "    </tr>\n",
        "    <tr>\n",
        "      <th>max</th>\n",
        "      <td> 1588.675965</td>\n",
        "      <td>  50.000000</td>\n",
        "      <td>  10.000000</td>\n",
        "      <td>   1.000000</td>\n",
        "    </tr>\n",
        "  </tbody>\n",
        "</table>\n",
        "</div>"
       ],
       "metadata": {},
       "output_type": "pyout",
       "prompt_number": 49,
       "text": [
        "\n",
        "df = <class 'pandas.core.frame.DataFrame'>\n",
        "Int64Index: 300 entries, 0 to 299\n",
        "Data columns (total 6 columns):\n",
        "BV              300  non-null values\n",
        "age             300  non-null values\n",
        "edss            250  non-null values\n",
        "edss_group      250  non-null values\n",
        "subject         300  non-null values\n",
        "subject_type    300  non-null values\n",
        "dtypes: float64(4), object(2)\n",
        "scan = (0.9, 20, 16)"
       ]
      }
     ],
     "prompt_number": 49
    },
    {
     "cell_type": "code",
     "collapsed": false,
     "input": [
      "milan = sim(sid=\"milan\",n_hc=25,n_ms=50,d_dist=0.65,alpha=0.7).run() \n",
      "#Milan has more high EDSS people\n",
      "milan.outputs"
     ],
     "language": "python",
     "metadata": {},
     "outputs": [
      {
       "html": [
        "<div style=\"max-height:1000px;max-width:1500px;overflow:auto;\">\n",
        "<table border=\"1\" class=\"dataframe\">\n",
        "  <thead>\n",
        "    <tr style=\"text-align: right;\">\n",
        "      <th></th>\n",
        "      <th>BV</th>\n",
        "      <th>age</th>\n",
        "      <th>edss</th>\n",
        "      <th>edss_group</th>\n",
        "    </tr>\n",
        "  </thead>\n",
        "  <tbody>\n",
        "    <tr>\n",
        "      <th>count</th>\n",
        "      <td>   75.000000</td>\n",
        "      <td> 75.000000</td>\n",
        "      <td> 50.000000</td>\n",
        "      <td> 50.000000</td>\n",
        "    </tr>\n",
        "    <tr>\n",
        "      <th>mean</th>\n",
        "      <td> 1078.847278</td>\n",
        "      <td> 35.000000</td>\n",
        "      <td>  2.426875</td>\n",
        "      <td>  0.760000</td>\n",
        "    </tr>\n",
        "    <tr>\n",
        "      <th>std</th>\n",
        "      <td>   54.026054</td>\n",
        "      <td>  8.955076</td>\n",
        "      <td>  2.723641</td>\n",
        "      <td>  0.431419</td>\n",
        "    </tr>\n",
        "    <tr>\n",
        "      <th>min</th>\n",
        "      <td>  965.424632</td>\n",
        "      <td> 20.000000</td>\n",
        "      <td>  0.000000</td>\n",
        "      <td>  0.000000</td>\n",
        "    </tr>\n",
        "    <tr>\n",
        "      <th>25%</th>\n",
        "      <td> 1036.963016</td>\n",
        "      <td> 27.423469</td>\n",
        "      <td>  0.000000</td>\n",
        "      <td>  1.000000</td>\n",
        "    </tr>\n",
        "    <tr>\n",
        "      <th>50%</th>\n",
        "      <td> 1079.470407</td>\n",
        "      <td> 35.000000</td>\n",
        "      <td>  1.446325</td>\n",
        "      <td>  1.000000</td>\n",
        "    </tr>\n",
        "    <tr>\n",
        "      <th>75%</th>\n",
        "      <td> 1109.798616</td>\n",
        "      <td> 42.576531</td>\n",
        "      <td>  3.931479</td>\n",
        "      <td>  1.000000</td>\n",
        "    </tr>\n",
        "    <tr>\n",
        "      <th>max</th>\n",
        "      <td> 1189.990409</td>\n",
        "      <td> 50.000000</td>\n",
        "      <td>  9.644671</td>\n",
        "      <td>  1.000000</td>\n",
        "    </tr>\n",
        "  </tbody>\n",
        "</table>\n",
        "</div>"
       ],
       "metadata": {},
       "output_type": "pyout",
       "prompt_number": 51,
       "text": [
        "\n",
        "df = <class 'pandas.core.frame.DataFrame'>\n",
        "Int64Index: 75 entries, 0 to 74\n",
        "Data columns (total 6 columns):\n",
        "BV              75  non-null values\n",
        "age             75  non-null values\n",
        "edss            50  non-null values\n",
        "edss_group      50  non-null values\n",
        "subject         75  non-null values\n",
        "subject_type    75  non-null values\n",
        "dtypes: float64(4), object(2)\n",
        "scan = (0.7, 20, 16)"
       ]
      }
     ],
     "prompt_number": 51
    },
    {
     "cell_type": "code",
     "collapsed": false,
     "input": [
      "basel = sim(sid=\"basel\",alpha=1.1,gamma=30).run()\n",
      "basel.outputs"
     ],
     "language": "python",
     "metadata": {},
     "outputs": [
      {
       "html": [
        "<div style=\"max-height:1000px;max-width:1500px;overflow:auto;\">\n",
        "<table border=\"1\" class=\"dataframe\">\n",
        "  <thead>\n",
        "    <tr style=\"text-align: right;\">\n",
        "      <th></th>\n",
        "      <th>BV</th>\n",
        "      <th>age</th>\n",
        "      <th>edss</th>\n",
        "      <th>edss_group</th>\n",
        "    </tr>\n",
        "  </thead>\n",
        "  <tbody>\n",
        "    <tr>\n",
        "      <th>count</th>\n",
        "      <td>  300.000000</td>\n",
        "      <td> 300.000000</td>\n",
        "      <td> 250.000000</td>\n",
        "      <td> 250.00000</td>\n",
        "    </tr>\n",
        "    <tr>\n",
        "      <th>mean</th>\n",
        "      <td> 1689.753171</td>\n",
        "      <td>  35.000000</td>\n",
        "      <td>   2.425826</td>\n",
        "      <td>   0.87200</td>\n",
        "    </tr>\n",
        "    <tr>\n",
        "      <th>std</th>\n",
        "      <td>   76.745098</td>\n",
        "      <td>   8.733066</td>\n",
        "      <td>   2.254240</td>\n",
        "      <td>   0.33476</td>\n",
        "    </tr>\n",
        "    <tr>\n",
        "      <th>min</th>\n",
        "      <td> 1429.111751</td>\n",
        "      <td>  20.000000</td>\n",
        "      <td>   0.000000</td>\n",
        "      <td>   0.00000</td>\n",
        "    </tr>\n",
        "    <tr>\n",
        "      <th>25%</th>\n",
        "      <td> 1636.344404</td>\n",
        "      <td>  27.439759</td>\n",
        "      <td>   1.121942</td>\n",
        "      <td>   1.00000</td>\n",
        "    </tr>\n",
        "    <tr>\n",
        "      <th>50%</th>\n",
        "      <td> 1690.113716</td>\n",
        "      <td>  35.000000</td>\n",
        "      <td>   1.950643</td>\n",
        "      <td>   1.00000</td>\n",
        "    </tr>\n",
        "    <tr>\n",
        "      <th>75%</th>\n",
        "      <td> 1745.359932</td>\n",
        "      <td>  42.560241</td>\n",
        "      <td>   3.006844</td>\n",
        "      <td>   1.00000</td>\n",
        "    </tr>\n",
        "    <tr>\n",
        "      <th>max</th>\n",
        "      <td> 1934.310147</td>\n",
        "      <td>  50.000000</td>\n",
        "      <td>  10.000000</td>\n",
        "      <td>   1.00000</td>\n",
        "    </tr>\n",
        "  </tbody>\n",
        "</table>\n",
        "</div>"
       ],
       "metadata": {},
       "output_type": "pyout",
       "prompt_number": 52,
       "text": [
        "\n",
        "df = <class 'pandas.core.frame.DataFrame'>\n",
        "Int64Index: 300 entries, 0 to 299\n",
        "Data columns (total 6 columns):\n",
        "BV              300  non-null values\n",
        "age             300  non-null values\n",
        "edss            250  non-null values\n",
        "edss_group      250  non-null values\n",
        "subject         300  non-null values\n",
        "subject_type    300  non-null values\n",
        "dtypes: float64(4), object(2)\n",
        "scan = (1.1, 30.0, 16)"
       ]
      }
     ],
     "prompt_number": 52
    },
    {
     "cell_type": "markdown",
     "metadata": {},
     "source": [
      "I will write some vizualization functions that will be used when we combined the datasets. We will plot PDFs of the distributions for each site later on"
     ]
    },
    {
     "cell_type": "code",
     "collapsed": false,
     "input": [
      "def kdeplot(Y,df,col=None,groupby=None):\n",
      "    if not isinstance(Y,str):\n",
      "        raise Exception(\"Use seaborn kdeplot\")\n",
      "    if col is not None:\n",
      "        vals = np.unique(df[col])\n",
      "        n = len(vals)\n",
      "        fig,ax = subplots(1,n,figsize=(5*n,5))\n",
      "        for i ,val in enumerate(vals):\n",
      "            kdegroup(Y,df[df[col]==val],label=val,groupby=groupby,ax=ax[i])\n",
      "    else:\n",
      "        fig, ax= subplots(1)\n",
      "        kdegroup(Y,df,label=\"\",groupby=groupby,ax=ax)\n",
      "    return ax"
     ],
     "language": "python",
     "metadata": {},
     "outputs": [],
     "prompt_number": 20
    },
    {
     "cell_type": "code",
     "collapsed": false,
     "input": [
      "def kdegroup(Y,df,label,groupby,ax):\n",
      "    if groupby is not None:\n",
      "        vals = np.unique(df[groupby])\n",
      "        n = len(vals)\n",
      "        for i,group in enumerate(vals):\n",
      "            sns.kdeplot(np.asarray(df[Y][df[groupby]==group].tolist()),\n",
      "                        ax=ax,label=group,color=ppl.set2[i],linewidth=3)\n",
      "        ax.set_title(label)\n",
      "        ax.set_xlabel(Y)\n",
      "    else:\n",
      "        sns.kdeplot(np.asarray(df[Y].tolist()))\n",
      "    "
     ],
     "language": "python",
     "metadata": {},
     "outputs": [],
     "prompt_number": 21
    },
    {
     "cell_type": "markdown",
     "metadata": {},
     "source": [
      "The combine class just needs to append the data frames and add another column for protocol. It will also generate multisite subjects, so it needs to know the same parameters from the simulation class."
     ]
    },
    {
     "cell_type": "code",
     "collapsed": false,
     "input": [
      "class combineInput(BaseInterfaceInputSpec):\n",
      "    sites = tr.List(tr.Any())\n",
      "    site_names = tr.List(tr.String(\"Site 1\"))\n",
      "    scanners = tr.List(tr.Function())\n",
      "    \n",
      "    #Multisite Controls get scanned at each site\n",
      "    age_msc = tr.List(tr.Float(),[24,24,24,30,32,35,37,40,45,50],usedefault=True)\n",
      "    n_scans = tr.Int(2,usedefault=True)\n",
      "    sig_b = tr.Float(57,usedefault=True)\n",
      "    alpha_a = tr.Float(-3,usedefault=True)\n",
      "    alpha_d = tr.Float(-16,usedefault=True)\n",
      "    b0 = tr.Float(1644,usedefault=True)\n",
      "    "
     ],
     "language": "python",
     "metadata": {},
     "outputs": [],
     "prompt_number": 12
    },
    {
     "cell_type": "markdown",
     "metadata": {},
     "source": [
      "The only output is a new dataframe. Also, we add a plotting function to compare brain volume distributions and edss distributions"
     ]
    },
    {
     "cell_type": "code",
     "collapsed": false,
     "input": [
      "class combineOutput(TraitedSpec):\n",
      "    df = tr.Any()\n",
      "    \n",
      "    def _repr_html_(self):\n",
      "        return self.df.describe()._repr_html_()\n",
      "    \n",
      "    def plot_BV_dist(self):\n",
      "        df = self.df\n",
      "        kdeplot(\"BV\",self.df,groupby=\"protocol\",col=\"subject_type\");\n",
      "        \n",
      "    def plot_edss_dist(self):\n",
      "        df = self.df\n",
      "        ax = kdeplot(\"edss\",df[df[\"subject_type\"]==\"MS\"],groupby=\"protocol\")\n",
      "        ax.set_title(\"EDSS Distributions\");"
     ],
     "language": "python",
     "metadata": {},
     "outputs": [],
     "prompt_number": 13
    },
    {
     "cell_type": "markdown",
     "metadata": {},
     "source": [
      "Now we define the combine interface, that merges the data and \"scans\" multisite controls"
     ]
    },
    {
     "cell_type": "code",
     "collapsed": false,
     "input": [
      "class combine(BaseInterface):\n",
      "    input_spec = combineInput\n",
      "    output_spec = combineOutput\n",
      "    \n",
      "    def _check_inputs(self):\n",
      "        num_sites = len(self.inputs.sites)\n",
      "        num_names = len(self.inputs.site_names)\n",
      "        if not num_names == num_sites:\n",
      "            self.inputs.site_names = [\"Site %d\"%(i+1) for i in range(num_sites)]\n",
      "    \n",
      "    def _run_multisite_controls(self):\n",
      "        #age_msc = np.array([24,24,24,30,32,35,3,40,45,50])\n",
      "        BV_msc_real = generate_real_BV(np.asarray(self.inputs.age_msc),\n",
      "                                       alpha_a=self.inputs.alpha_a,\n",
      "                                       b0=self.inputs.b0,\n",
      "                                       edss=None,\n",
      "                                       alpha_d=self.inputs.alpha_d,\n",
      "                                       sig_b =self.inputs.sig_b)\n",
      "        \n",
      "        for i, site in enumerate(self.inputs.sites):\n",
      "            scan_args = self.inputs.scanners[i]\n",
      "            scan = get_scan_function(*scan_args)\n",
      "            p = {}\n",
      "            n_msc = len(self.inputs.age_msc)\n",
      "            p['age'] = np.asarray(self.inputs.age_msc)\n",
      "            p['edss'] = np.ones(n_msc)*np.nan\n",
      "            p['edss_group'] = np.ones(n_msc)*np.nan\n",
      "            p['protocol'] = [self.inputs.site_names[i]]*n_msc\n",
      "            p['subject_type']=[\"HC\"]*n_msc\n",
      "            p['subject'] = [\"eurotrip_%03d\"%(d) for d in range(n_msc)]\n",
      "            p['BV'] = scan(BV_msc_real)\n",
      "            tmp_df = pd.DataFrame(data=p)\n",
      "            if not i:\n",
      "                msc_df = tmp_df\n",
      "            else:\n",
      "                msc_df = msc_df.append(tmp_df,ignore_index=True)\n",
      "        return msc_df\n",
      "    \n",
      "    def _run_interface(self,runtime):\n",
      "        \n",
      "        self._check_inputs()\n",
      "        \n",
      "        for i, site in enumerate(self.inputs.sites):\n",
      "            n = len(site)\n",
      "            if not i:\n",
      "                df = site\n",
      "                protocol = [self.inputs.site_names[i]]*n\n",
      "            else:\n",
      "                df = df.append(site,ignore_index=True)\n",
      "                protocol = np.hstack((protocol,\n",
      "                                        [self.inputs.site_names[i]]*n))\n",
      "        msc_df = self._run_multisite_controls()\n",
      "        df[\"protocol\"] = protocol\n",
      "        self._df = df.append(msc_df,ignore_index=True)\n",
      "        \n",
      "        return runtime\n",
      "    \n",
      "    def _list_outputs(self):\n",
      "        o = self._outputs().get()\n",
      "        o[\"df\"] = self._df\n",
      "        return o"
     ],
     "language": "python",
     "metadata": {},
     "outputs": [],
     "prompt_number": 53
    },
    {
     "cell_type": "markdown",
     "metadata": {},
     "source": [
      "To run the function we just do:"
     ]
    },
    {
     "cell_type": "code",
     "collapsed": false,
     "input": [
      "c = combine(sites=[ucsf.outputs.df, milan.outputs.df, basel.outputs.df],\n",
      "            site_names=[\"UCSF\",\"Milan\",\"Basel\"],\n",
      "            scanners = [ucsf.outputs.scan, \n",
      "                        milan.outputs.scan,\n",
      "                        basel.outputs.scan]).run()"
     ],
     "language": "python",
     "metadata": {},
     "outputs": [],
     "prompt_number": 54
    },
    {
     "cell_type": "markdown",
     "metadata": {},
     "source": [
      "We can compare distributions:"
     ]
    },
    {
     "cell_type": "code",
     "collapsed": false,
     "input": [
      "c.outputs.plot_BV_dist()"
     ],
     "language": "python",
     "metadata": {},
     "outputs": [
      {
       "metadata": {},
       "output_type": "display_data",
       "png": "[encoded data removed]",
       "text": [
        "<matplotlib.figure.Figure at 0x1a0b4c90>"
       ]
      }
     ],
     "prompt_number": 55
    },
    {
     "cell_type": "code",
     "collapsed": false,
     "input": [
      "c.outputs.plot_edss_dist()"
     ],
     "language": "python",
     "metadata": {},
     "outputs": [
      {
       "metadata": {},
       "output_type": "display_data",
       "png": "[encoded data removed]",
       "text": [
        "<matplotlib.figure.Figure at 0x1a11f150>"
       ]
      }
     ],
     "prompt_number": 56
    },
    {
     "cell_type": "markdown",
     "metadata": {},
     "source": [
      "Finally, we need a function to take our simulated data to a csv:"
     ]
    },
    {
     "cell_type": "code",
     "collapsed": false,
     "input": [
      "def write_csv(df):\n",
      "    import os\n",
      "    fname = os.path.abspath(\"data.csv\")\n",
      "    df.to_csv(fname)\n",
      "    return fname"
     ],
     "language": "python",
     "metadata": {},
     "outputs": [],
     "prompt_number": 57
    },
    {
     "cell_type": "heading",
     "level": 4,
     "metadata": {},
     "source": [
      "Pipeline the simulation using Nipype"
     ]
    },
    {
     "cell_type": "markdown",
     "metadata": {},
     "source": [
      "Now that we have all the interfaces in place, we just need to connect the interfaces. We can even iterate over parameters via the MapNode:"
     ]
    },
    {
     "cell_type": "code",
     "collapsed": false,
     "input": [
      "import nipype.pipeline.engine as pe\n",
      "import nipype.interfaces.utility as utils"
     ],
     "language": "python",
     "metadata": {},
     "outputs": [],
     "prompt_number": 58
    },
    {
     "cell_type": "code",
     "collapsed": false,
     "input": [
      "wf = pe.Workflow(name=\"test\")\n",
      "wf.base_dir = \"/data/henry6/keshavan/phantom/scratch\""
     ],
     "language": "python",
     "metadata": {},
     "outputs": [],
     "prompt_number": 59
    },
    {
     "cell_type": "code",
     "collapsed": false,
     "input": [
      "ucsf = pe.MapNode(sim(sid=\"ucsf\"),name=\"ucsf\",iterfield=[\"n_hc\"])\n",
      "ucsf.inputs.n_hc = [15,30,45,60]\n",
      "\n",
      "milan = pe.MapNode(sim(sid=\"milan\"),name=\"milan\",iterfield=[\"n_hc\"])\n",
      "milan.inputs.n_hc = [15,30,45,60]\n",
      "\n",
      "comb_sites = pe.MapNode(utils.Merge(2),name=\"merge_sites\",iterfield=[\"in1\",\"in2\"])\n",
      "comb_scanners = pe.MapNode(utils.Merge(2),name=\"merge_scanners\",iterfield=[\"in1\",\"in2\"])\n",
      "\n",
      "allsites = pe.MapNode(combine(site_names=[\"UCSF\",\"Milan\"]),\n",
      "                      name=\"allsites\",\n",
      "                      iterfield=[\"sites\",\"scanners\"])\n",
      "\n",
      "tocsv = pe.MapNode(utils.Function(input_names=[\"df\"],\n",
      "                                  output_names=[\"fname\"],\n",
      "                                  function=write_csv),\n",
      "                   name=\"write_csv\",iterfield=[\"df\"])\n",
      "\n",
      "wf.connect(ucsf,\"df\",comb_sites,\"in1\")\n",
      "wf.connect(milan,\"df\",comb_sites,\"in2\")\n",
      "\n",
      "wf.connect(ucsf,\"scan\",comb_scanners,\"in1\")\n",
      "wf.connect(milan,\"scan\",comb_scanners,\"in2\")\n",
      "\n",
      "wf.connect(comb_scanners,\"out\",allsites,\"scanners\")\n",
      "wf.connect(comb_sites,\"out\",allsites,\"sites\")\n",
      "\n",
      "wf.connect(allsites,\"df\",tocsv,\"df\")"
     ],
     "language": "python",
     "metadata": {},
     "outputs": [],
     "prompt_number": 60
    },
    {
     "cell_type": "code",
     "collapsed": false,
     "input": [
      "wf.write_graph()"
     ],
     "language": "python",
     "metadata": {},
     "outputs": [],
     "prompt_number": 62
    },
    {
     "cell_type": "code",
     "collapsed": false,
     "input": [
      "Image(\"/data/henry6/keshavan/phantom/scratch/test/graph.dot.png\")"
     ],
     "language": "python",
     "metadata": {},
     "outputs": [
      {
       "metadata": {},
       "output_type": "pyout",
       "png": "[encoded data removed]",
       "prompt_number": 63,
       "text": [
        "<IPython.core.display.Image at 0x1a08d050>"
       ]
      }
     ],
     "prompt_number": 63
    },
    {
     "cell_type": "markdown",
     "metadata": {},
     "source": [
      "Cool, now we just run the workflow:"
     ]
    },
    {
     "cell_type": "code",
     "collapsed": false,
     "input": [
      "wf.run()"
     ],
     "language": "python",
     "metadata": {},
     "outputs": [
      {
       "output_type": "stream",
       "stream": "stdout",
       "text": [
        "140501-14:13:53,0 workflow INFO:\n",
        "\t ['check', 'execution', 'logging']\n"
       ]
      },
      {
       "output_type": "stream",
       "stream": "stdout",
       "text": [
        "140501-14:13:53,87 workflow INFO:\n",
        "\t Running serially.\n"
       ]
      },
      {
       "output_type": "stream",
       "stream": "stdout",
       "text": [
        "140501-14:13:53,93 workflow INFO:\n",
        "\t Executing node ucsf in dir: /data/henry6/keshavan/phantom/scratch/test/ucsf\n"
       ]
      },
      {
       "output_type": "stream",
       "stream": "stdout",
       "text": [
        "140501-14:13:53,257 workflow INFO:\n",
        "\t Executing node milan in dir: /data/henry6/keshavan/phantom/scratch/test/milan\n"
       ]
      },
      {
       "output_type": "stream",
       "stream": "stdout",
       "text": [
        "140501-14:13:53,779 workflow INFO:\n",
        "\t Executing node merge_sites in dir: /data/henry6/keshavan/phantom/scratch/test/merge_sites\n"
       ]
      },
      {
       "output_type": "stream",
       "stream": "stdout",
       "text": [
        "140501-14:13:54,252 workflow INFO:\n",
        "\t Executing node merge_scanners in dir: /data/henry6/keshavan/phantom/scratch/test/merge_scanners\n"
       ]
      },
      {
       "output_type": "stream",
       "stream": "stdout",
       "text": [
        "140501-14:13:54,612 workflow INFO:\n",
        "\t Executing node allsites in dir: /data/henry6/keshavan/phantom/scratch/test/allsites\n"
       ]
      },
      {
       "output_type": "stream",
       "stream": "stdout",
       "text": [
        "140501-14:13:55,380 workflow INFO:\n",
        "\t Executing node write_csv in dir: /data/henry6/keshavan/phantom/scratch/test/write_csv\n"
       ]
      },
      {
       "metadata": {},
       "output_type": "pyout",
       "prompt_number": 64,
       "text": [
        "<networkx.classes.digraph.DiGraph at 0x2aaaac417a90>"
       ]
      }
     ],
     "prompt_number": 64
    },
    {
     "cell_type": "markdown",
     "metadata": {},
     "source": [
      "Our outputs are in our working directory under the write_csv folder. Each iteration has its own set of data. We can import the csv to the output class of the combine interface to use the plotting functions written earlier:"
     ]
    },
    {
     "cell_type": "code",
     "collapsed": false,
     "input": [
      "from glob import glob\n",
      "datas = glob(\"/data/henry6/keshavan/phantom/scratch/test/write_csv/mapflow/_write_csv?/data.csv\")\n",
      "foo = pd.read_csv(datas[0])\n",
      "for d in datas:\n",
      "    foo = pd.read_csv(d)\n",
      "    bar = combineOutput()\n",
      "    bar.set(**{\"df\":foo})\n",
      "    bar.plot_BV_dist()\n",
      "    bar.plot_edss_dist()\n",
      "    break"
     ],
     "language": "python",
     "metadata": {},
     "outputs": [
      {
       "metadata": {},
       "output_type": "display_data",
       "png": "[encoded data removed]",
       "text": [
        "<matplotlib.figure.Figure at 0x1a5420d0>"
       ]
      },
      {
       "metadata": {},
       "output_type": "display_data",
       "png": "[encoded data removed]",
       "text": [
        "<matplotlib.figure.Figure at 0x1a9a8390>"
       ]
      }
     ],
     "prompt_number": 65
    },
    {
     "cell_type": "markdown",
     "metadata": {},
     "source": [
      "Great! Ok so now we are able to generate real-looking data sets via a nipype workflow. \n",
      "\n",
      "From here on out, we treat the data as a csv file instead of a pandas object in memory. This means, subsequent nodes can be used on real datasets in csv format.\n",
      "\n",
      "Also, we can change up the data simulation part while keeping the analysis workflow separate.\n",
      "\n",
      "One drawback to this method is that it will probably take a lot of room on the disk (expecially if we bootstrap the simulations to run 10,000 times say) - but the advantage is that we will save space in memory. Also, with nipype caching we can easily re-run the parts of the analysis that don't change."
     ]
    },
    {
     "cell_type": "heading",
     "level": 3,
     "metadata": {},
     "source": [
      "Next Steps"
     ]
    },
    {
     "cell_type": "markdown",
     "metadata": {},
     "source": [
      "* Work on the calibration and modelling modules\n",
      "* The calibration module takes a multisite CSV file (protocol should have >2 unique values) and does something.\n",
      "* There should be a check calibration module that finds multisite controls in the datasets and runs equivalence testing at a given margin (or margins)"
     ]
    }
   ],
   "metadata": {}
  }
 ]
}