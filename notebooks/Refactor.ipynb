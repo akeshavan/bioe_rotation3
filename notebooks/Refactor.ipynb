{
 "metadata": {
  "keep_code": true,
  "name": "",
  "signature": "sha256:2a764ebf61d425a72e68469abe04a97df7a46ae6c4686c01573ed75df8fa75ae"
 },
 "nbformat": 3,
 "nbformat_minor": 0,
 "worksheets": [
  {
   "cells": [
    {
     "cell_type": "code",
     "collapsed": false,
     "input": [
      "import traits.api as tr\n",
      "import numpy as np\n",
      "import statsmodels.api as sm\n",
      "import pandas as pd\n",
      "from nipype.interfaces.base import BaseInterface, BaseInterfaceInputSpec, TraitedSpec\n",
      "from nipype.interfaces.traits_extension import isdefined\n",
      "import scipy.stats as stats\n",
      "import prettyplotlib as ppl\n",
      "import seaborn as sns\n",
      "%pylab inline"
     ],
     "language": "python",
     "metadata": {},
     "outputs": [
      {
       "output_type": "stream",
       "stream": "stdout",
       "text": [
        "Populating the interactive namespace from numpy and matplotlib\n"
       ]
      }
     ],
     "prompt_number": 395
    },
    {
     "cell_type": "code",
     "collapsed": false,
     "input": [
      "class simInput(BaseInterfaceInputSpec):\n",
      "    \"\"\"\n",
      "    We define a set of parameters to generate subjects at a given site. \n",
      "    Each site has healthy controls (hc), patients with MS (ms) and\n",
      "    multisite controls (mhc). We also must define an EDSS distribution\n",
      "    at each site, as well as individual and scanner variabilities. Finally,\n",
      "    we define relationships between our dependent variable (brain volume BV) and\n",
      "    age, edss etc.\n",
      "    \"\"\"\n",
      "    # Age ranges\n",
      "    age_hc_range = tr.Tuple(tr.Float(20.0),tr.Float(50.0),usedefault=True)\n",
      "    age_ms_range = tr.Tuple(tr.Float(20.0),tr.Float(50.0),usedefault=True)\n",
      "    age_mhc_range = tr.Tuple(tr.Float(20.0),tr.Float(50.0),usedefault=True)\n",
      "    \n",
      "    #Number of subjects\n",
      "    n_hc = tr.Int(50,usedefault=True)\n",
      "    n_ms = tr.Int(250,usedefault=True)\n",
      "    n_mhc = tr.Int(10,usedefault=True)\n",
      "    n_mhc_scans = tr.Int(2,usedefault=True)\n",
      "    \n",
      "    # Distribution parameters\n",
      "    d_dist = tr.Float(0.88,usedefault=True)\n",
      "    sig_b = tr.Float(57,usedefault=True)\n",
      "    sig_s = tr.Float(16,usedefault=True)\n",
      "    \n",
      "    # Coefficients\n",
      "    alpha_a = tr.Float(-3,usedefault=True)\n",
      "    alpha_d = tr.Float(-16,usedefault=True)\n",
      "    b0 = tr.Float(1644,usedefault=True)\n",
      "    alpha = tr.Float(0.9,usedefault=True)\n",
      "    gamma = tr.Float(20,usedefault=True)\n",
      "    \n",
      "    #HC Bias parameters\n",
      "    alpha_hc = tr.Float(1,usedefault=True)\n",
      "    gamma_hc = tr.Float(0,usedefault=True)\n",
      "    \n",
      "    #EDSS Distribution parameters\n",
      "    lo_mean = tr.Float(2.0,usedefault=True)\n",
      "    hi_mean = tr.Float(6.0,usedefault=True)\n",
      "    lo_sig = tr.Float(1.1,usedefault=True)\n",
      "    hi_sig = tr.Float(0.8,usedefault=True)"
     ],
     "language": "python",
     "metadata": {},
     "outputs": [],
     "prompt_number": 306
    },
    {
     "cell_type": "code",
     "collapsed": false,
     "input": [
      "class simOutput(TraitedSpec):\n",
      "\n",
      "    age_hc = tr.List(tr.Float())\n",
      "    age_ms = tr.List(tr.Float())\n",
      "        \n",
      "    edss = tr.List(tr.Float())\n",
      "    llr = tr.List(tr.Float())\n",
      "    \n",
      "    BV_hc = tr.List(tr.Float())\n",
      "    BV_ms = tr.List(tr.Float())\n",
      "    \n",
      "    df = tr.Any()\n",
      "    scan = tr.Function(desc=\"Function that takes real BV and returns scanned BV\")\n",
      "    \n",
      "    def _repr_html_(self):\n",
      "        return self.df.describe()._repr_html_()\n",
      "    \n",
      "    "
     ],
     "language": "python",
     "metadata": {},
     "outputs": [],
     "prompt_number": 467
    },
    {
     "cell_type": "code",
     "collapsed": false,
     "input": [
      "def generate_real_BV(ages,alpha_a=-3,b0=1644,edss=None,alpha_d=-16,sig_b = 57):\n",
      "    if edss == None:\n",
      "        edss = np.zeros(len(ages))\n",
      "    BV_real = alpha_a*ages + alpha_d*edss + np.random.normal(b0,sig_b,len(ages))\n",
      "    return BV_real"
     ],
     "language": "python",
     "metadata": {},
     "outputs": [],
     "prompt_number": 491
    },
    {
     "cell_type": "code",
     "collapsed": false,
     "input": [
      "class sim(BaseInterface):\n",
      "    input_spec = simInput\n",
      "    output_spec = simOutput\n",
      "    \n",
      "    def _run_interface(self,runtime):\n",
      "        return runtime\n",
      "    \n",
      "    def _sim_data(self):\n",
      "        o = self._outputs().get()\n",
      "        o['age_hc'] = np.linspace(*self.inputs.age_hc_range,\n",
      "                                          num = self.inputs.n_hc)\n",
      "        o['age_ms'] = np.linspace(*self.inputs.age_ms_range,\n",
      "                                  num = self.inputs.n_ms)\n",
      "        o['edss'] = (np.random.binomial(1,self.inputs.d_dist,self.inputs.n_ms)*\\\n",
      "                    np.random.normal(self.inputs.lo_mean,self.inputs.lo_sig,self.inputs.n_ms) +\\\n",
      "                    np.random.binomial(1,1-self.inputs.d_dist,self.inputs.n_ms)*\\\n",
      "                    np.random.normal(self.inputs.hi_mean,self.inputs.hi_sig,\n",
      "                                     self.inputs.n_ms))\n",
      "        o['edss'][o['edss']<0] = 0 #EDSS Cannot be below 0\n",
      "        o['edss'][o['edss']>10] = 10 #EDSS Cannot be >10\n",
      "        \n",
      "        Pr_lo = stats.norm.pdf((o[\"edss\"] - 2)/1.1)\n",
      "        Pr_hi = stats.norm.pdf((o[\"edss\"] - 6)/0.8)\n",
      "        o[\"llr\"] = np.log(Pr_lo/Pr_hi) > 0\n",
      "\n",
      "\n",
      "        BV_hc_real = generate_real_BV(o['age_hc'],\n",
      "                                      self.inputs.alpha_a,\n",
      "                                      self.inputs.b0,\n",
      "                                      None,\n",
      "                                      self.inputs.alpha_d,\n",
      "                                      self.inputs.sig_b)\n",
      "                    \n",
      "        BV_hc_real = self.inputs.alpha_hc * BV_hc_real + self.inputs.gamma_hc\n",
      "        o['BV_hc'] = self.inputs.alpha * BV_hc_real + \\\n",
      "                       self.inputs.gamma + np.random.normal(0,self.inputs.sig_s,\n",
      "                                                            self.inputs.n_hc)\n",
      "\n",
      "        BV_ms_real = generate_real_BV(o['age_ms'],\n",
      "                                      self.inputs.alpha_a,\n",
      "                                      self.inputs.b0,\n",
      "                                      o['edss'],\n",
      "                                      self.inputs.alpha_d,\n",
      "                                      self.inputs.sig_b)\n",
      "\n",
      "        o['BV_ms'] = self.inputs.alpha * BV_ms_real + self.inputs.gamma + \\\n",
      "                       np.random.normal(0,self.inputs.sig_s, self.inputs.n_ms)\n",
      "            \n",
      "        return o\n",
      "\n",
      "    def get_df(self,o):\n",
      "        #o = self.get()\n",
      "        n_ms = self.inputs.n_ms\n",
      "        n_hc = self.inputs.n_hc\n",
      "        p = {}\n",
      "        p['subject_type'] = np.hstack(([\"MS\"]*n_ms,[\"HC\"]*n_hc))\n",
      "        p['age'] = np.hstack((o['age_ms'],o['age_hc']))\n",
      "        p['edss'] = np.hstack((o['edss'],np.ones(n_hc)*np.nan))\n",
      "        p['edss_group'] = np.hstack((o['llr'],np.ones(n_hc)*np.nan))\n",
      "        p['BV'] = np.hstack((o['BV_ms'],o['BV_hc']))\n",
      "        df = pd.DataFrame(data=p)\n",
      "        self.df = df\n",
      "        return df\n",
      "    \n",
      "    def _list_outputs(self):\n",
      "        o = self._sim_data()\n",
      "        for key, value in o.iteritems():\n",
      "            if isdefined(value):\n",
      "                o[key] = value.tolist()\n",
      "        o['df'] = self.get_df(o)\n",
      "        o['scan'] = lambda x: self.inputs.alpha * x + \\\n",
      "                    np.random.normal(self.inputs.gamma,self.inputs.sig_s,len(x))\n",
      "        return o"
     ],
     "language": "python",
     "metadata": {},
     "outputs": [],
     "prompt_number": 474
    },
    {
     "cell_type": "code",
     "collapsed": false,
     "input": [
      "ucsf = sim().run()"
     ],
     "language": "python",
     "metadata": {},
     "outputs": [],
     "prompt_number": 475
    },
    {
     "cell_type": "code",
     "collapsed": false,
     "input": [
      "milan = sim(n_hc=25,n_ms=50,d_dist=0.65,alpha=0.7).run() #Milan has more high EDSS people"
     ],
     "language": "python",
     "metadata": {},
     "outputs": [],
     "prompt_number": 476
    },
    {
     "cell_type": "code",
     "collapsed": false,
     "input": [
      "basel = sim(alpha=1.1,gamma=30).run()"
     ],
     "language": "python",
     "metadata": {},
     "outputs": [],
     "prompt_number": 477
    },
    {
     "cell_type": "code",
     "collapsed": false,
     "input": [
      "def kdeplot(Y,df,col=None,groupby=None):\n",
      "    if not isinstance(Y,str):\n",
      "        raise Exception(\"Use seaborn kdeplot\")\n",
      "    if col is not None:\n",
      "        vals = np.unique(df[col])\n",
      "        n = len(vals)\n",
      "        fig,ax = subplots(1,n,figsize=(5*n,5))\n",
      "        for i ,val in enumerate(vals):\n",
      "            kdegroup(Y,df[df[col]==val],label=val,groupby=groupby,ax=ax[i])\n",
      "    else:\n",
      "        fig, ax= subplots(1)\n",
      "        kdegroup(Y,df,label=\"\",groupby=groupby,ax=ax)\n",
      "    return ax"
     ],
     "language": "python",
     "metadata": {},
     "outputs": [],
     "prompt_number": 415
    },
    {
     "cell_type": "code",
     "collapsed": false,
     "input": [
      "def kdegroup(Y,df,label,groupby,ax):\n",
      "    if groupby is not None:\n",
      "        vals = np.unique(df[groupby])\n",
      "        n = len(vals)\n",
      "        for i,group in enumerate(vals):\n",
      "            sns.kdeplot(np.asarray(df[Y][df[groupby]==group].tolist()),\n",
      "                        ax=ax,label=group,color=ppl.set2[i],linewidth=3)\n",
      "        ax.set_title(label)\n",
      "        ax.set_xlabel(Y)\n",
      "    else:\n",
      "        sns.kdeplot(np.asarray(df[Y].tolist()))\n",
      "    "
     ],
     "language": "python",
     "metadata": {},
     "outputs": [],
     "prompt_number": 428
    },
    {
     "cell_type": "code",
     "collapsed": false,
     "input": [
      "class combineInput(BaseInterfaceInputSpec):\n",
      "    sites = tr.List(tr.Any())\n",
      "    site_names = tr.List(tr.String(\"Site 1\"))\n",
      "    scanners = tr.List(tr.Function())\n",
      "    \n",
      "    #Multisite Controls get scanned at each site\n",
      "    age_msc = tr.List(tr.Float(),[24,24,24,30,32,35,37,40,45,50],usedefault=True)\n",
      "    n_scans = tr.Int(2,usedefault=True)\n",
      "    sig_b = tr.Float(57,usedefault=True)\n",
      "    alpha_a = tr.Float(-3,usedefault=True)\n",
      "    alpha_d = tr.Float(-16,usedefault=True)\n",
      "    b0 = tr.Float(1644,usedefault=True)\n",
      "    "
     ],
     "language": "python",
     "metadata": {},
     "outputs": [],
     "prompt_number": 495
    },
    {
     "cell_type": "code",
     "collapsed": false,
     "input": [
      "class combineOutput(TraitedSpec):\n",
      "    df = tr.Any()\n",
      "    \n",
      "    def _repr_html_(self):\n",
      "        return self.df.describe()._repr_html_()\n",
      "    \n",
      "    def plot_BV_dist(self):\n",
      "        df = self.df\n",
      "        kdeplot(\"BV\",self.df,groupby=\"protocol\",col=\"subject_type\");\n",
      "        \n",
      "    def plot_edss_dist(self):\n",
      "        df = self.df\n",
      "        ax = kdeplot(\"edss\",df[df[\"subject_type\"]==\"MS\"],groupby=\"protocol\")\n",
      "        ax.set_title(\"EDSS Distributions\");"
     ],
     "language": "python",
     "metadata": {},
     "outputs": [],
     "prompt_number": 452
    },
    {
     "cell_type": "code",
     "collapsed": false,
     "input": [
      "class combine(BaseInterface):\n",
      "    input_spec = combineInput\n",
      "    output_spec = combineOutput\n",
      "    \n",
      "    def _check_inputs(self):\n",
      "        num_sites = len(self.inputs.sites)\n",
      "        num_names = len(self.inputs.site_names)\n",
      "        if not num_names == num_sites:\n",
      "            self.inputs.site_names = [\"Site %d\"%(i+1) for i in range(num_sites)]\n",
      "    \n",
      "    def _run_multisite_controls(self):\n",
      "        #age_msc = np.array([24,24,24,30,32,35,3,40,45,50])\n",
      "        BV_msc_real = generate_real_BV(self.inputs.age_msc,\n",
      "                                       alpha_a=self.inputs.alpha_a,\n",
      "                                       b0=self.inputs.b0,\n",
      "                                       edss=None,\n",
      "                                       alpha_d=self.inputs.alpha_d,\n",
      "                                       sig_b =self.inputs.sig_b)\n",
      "        \n",
      "        for i, site in enumerate(self.inputs.sites):\n",
      "            scan = self.inputs.scanners[i]\n",
      "            p = {}\n",
      "            n_msc = len(self.inputs.age_msc)\n",
      "            p['edss'] = np.ones(n_msc)*np.nan\n",
      "            p['llr'] = np.ones(n_msc)*np.nan\n",
      "            p['protocol'] = [site_names[i]]*n_msc\n",
      "            p['subject_type']=[\"HC\"]*n_msc\n",
      "            p['BV'] = scan(BV_msc_real)\n",
      "            tmp_df = pd.DataFrame(data=p)\n",
      "            if i:\n",
      "                msc_df = tmp_df\n",
      "            else:\n",
      "                msc_df = msc_df.append(tmp_df,ignore_index=True)\n",
      "        return msc_df\n",
      "    \n",
      "    def _run_interface(self,runtime):\n",
      "        \n",
      "        self._check_inputs()\n",
      "        \n",
      "        for i, site in enumerate(self.inputs.sites):\n",
      "            n = len(site)\n",
      "            if not i:\n",
      "                df = site\n",
      "                protocol = [self.inputs.site_names[i]]*n\n",
      "            else:\n",
      "                df = df.append(site,ignore_index=True)\n",
      "                protocol = np.hstack((protocol,\n",
      "                                        [self.inputs.site_names[i]]*n))\n",
      "        msc_df = self._run_multisite_controls(self)\n",
      "        df[\"protocol\"] = protocol\n",
      "        self._df = df.append(msc_df,ignore_index=True)\n",
      "        \n",
      "        return runtime\n",
      "    \n",
      "    def _list_outputs(self):\n",
      "        o = self._outputs().get()\n",
      "        o[\"df\"] = self._df\n",
      "        return o"
     ],
     "language": "python",
     "metadata": {},
     "outputs": [],
     "prompt_number": 455
    },
    {
     "cell_type": "code",
     "collapsed": false,
     "input": [
      "c = combine(sites=[ucsf.outputs.df, milan.outputs.df, basel.outputs.df],\n",
      "            site_names=[\"UCSF\",\"Milan\",\"Basel\"]).run()"
     ],
     "language": "python",
     "metadata": {},
     "outputs": [],
     "prompt_number": 456
    },
    {
     "cell_type": "code",
     "collapsed": false,
     "input": [
      "c.outputs.plot_BV_dist()"
     ],
     "language": "python",
     "metadata": {},
     "outputs": [
      {
       "metadata": {},
       "output_type": "display_data",
       "png": "[encoded data removed]",
       "text": [
        "<matplotlib.figure.Figure at 0x2aaaae0130d0>"
       ]
      }
     ],
     "prompt_number": 457
    },
    {
     "cell_type": "code",
     "collapsed": false,
     "input": [
      "c.outputs.plot_edss_dist()"
     ],
     "language": "python",
     "metadata": {},
     "outputs": [
      {
       "metadata": {},
       "output_type": "display_data",
       "png": "[encoded data removed]",
       "text": [
        "<matplotlib.figure.Figure at 0x2aaaadfca110>"
       ]
      }
     ],
     "prompt_number": 458
    },
    {
     "cell_type": "code",
     "collapsed": false,
     "input": [
      "c.outputs"
     ],
     "language": "python",
     "metadata": {},
     "outputs": [
      {
       "html": [
        "<div style=\"max-height:1000px;max-width:1500px;overflow:auto;\">\n",
        "<table border=\"1\" class=\"dataframe\">\n",
        "  <thead>\n",
        "    <tr style=\"text-align: right;\">\n",
        "      <th></th>\n",
        "      <th>BV</th>\n",
        "      <th>age</th>\n",
        "      <th>edss</th>\n",
        "      <th>edss_group</th>\n",
        "    </tr>\n",
        "  </thead>\n",
        "  <tbody>\n",
        "    <tr>\n",
        "      <th>count</th>\n",
        "      <td>  675.000000</td>\n",
        "      <td> 675.000000</td>\n",
        "      <td> 550.000000</td>\n",
        "      <td> 550.000000</td>\n",
        "    </tr>\n",
        "    <tr>\n",
        "      <th>mean</th>\n",
        "      <td> 1482.489254</td>\n",
        "      <td>  35.000000</td>\n",
        "      <td>   2.596144</td>\n",
        "      <td>   0.836364</td>\n",
        "    </tr>\n",
        "    <tr>\n",
        "      <th>std</th>\n",
        "      <td>  220.609366</td>\n",
        "      <td>   8.744786</td>\n",
        "      <td>   2.449785</td>\n",
        "      <td>   0.370282</td>\n",
        "    </tr>\n",
        "    <tr>\n",
        "      <th>min</th>\n",
        "      <td>  954.286847</td>\n",
        "      <td>  20.000000</td>\n",
        "      <td>   0.000000</td>\n",
        "      <td>   0.000000</td>\n",
        "    </tr>\n",
        "    <tr>\n",
        "      <th>25%</th>\n",
        "      <td> 1342.449047</td>\n",
        "      <td>  27.409639</td>\n",
        "      <td>   0.982264</td>\n",
        "      <td>   1.000000</td>\n",
        "    </tr>\n",
        "    <tr>\n",
        "      <th>50%</th>\n",
        "      <td> 1454.581086</td>\n",
        "      <td>  35.000000</td>\n",
        "      <td>   1.954005</td>\n",
        "      <td>   1.000000</td>\n",
        "    </tr>\n",
        "    <tr>\n",
        "      <th>75%</th>\n",
        "      <td> 1680.582175</td>\n",
        "      <td>  42.590361</td>\n",
        "      <td>   3.249405</td>\n",
        "      <td>   1.000000</td>\n",
        "    </tr>\n",
        "    <tr>\n",
        "      <th>max</th>\n",
        "      <td> 1916.570338</td>\n",
        "      <td>  50.000000</td>\n",
        "      <td>  10.000000</td>\n",
        "      <td>   1.000000</td>\n",
        "    </tr>\n",
        "  </tbody>\n",
        "</table>\n",
        "</div>"
       ],
       "metadata": {},
       "output_type": "pyout",
       "prompt_number": 462,
       "text": [
        "\n",
        "df = <class 'pandas.core.frame.DataFrame'>\n",
        "Int64Index: 675 entries, 0 to 674\n",
        "Data columns (total 6 columns):\n",
        "BV              675  non-null values\n",
        "age             675  non-null values\n",
        "edss            550  non-null values\n",
        "edss_group      550  non-null values\n",
        "protocol        675  non-null values\n",
        "subject_type    675  non-null values\n",
        "dtypes: float64(4), object(2)"
       ]
      }
     ],
     "prompt_number": 462
    },
    {
     "cell_type": "code",
     "collapsed": false,
     "input": [
      "age_msc = np.array([24,24,24,30,32,35,3,40,45,50])\n",
      "BV_msc_real = generate_real_BV(age_msc)"
     ],
     "language": "python",
     "metadata": {},
     "outputs": [],
     "prompt_number": 480
    },
    {
     "cell_type": "code",
     "collapsed": false,
     "input": [
      "msc1 = ucsf.outputs.scan(BV_msc_real)\n",
      "msc2 = basel.outputs.scan(BV_msc_real)\n",
      "msc3 = milan.outputs.scan(BV_msc_real)"
     ],
     "language": "python",
     "metadata": {},
     "outputs": [],
     "prompt_number": 484
    },
    {
     "cell_type": "code",
     "collapsed": false,
     "input": [
      "fig,ax = subplots(1)\n",
      "ppl.bar(ax,arange(len(age_msc))+0,msc1,width=0.2,color=ppl.set2[0],label=\"UCSF\")\n",
      "ppl.bar(ax,arange(len(age_msc))+0.2,msc2,width=0.2,color=ppl.set2[1],label=\"Basel\")\n",
      "ppl.bar(ax,arange(len(age_msc))+0.4,msc3,width=0.2,color=ppl.set2[2],label=\"Milan\")\n",
      "ppl.legend(ax);"
     ],
     "language": "python",
     "metadata": {},
     "outputs": [
      {
       "metadata": {},
       "output_type": "display_data",
       "png": "[encoded data removed]",
       "text": [
        "<matplotlib.figure.Figure at 0x2aaaae499410>"
       ]
      }
     ],
     "prompt_number": 490
    },
    {
     "cell_type": "code",
     "collapsed": false,
     "input": [],
     "language": "python",
     "metadata": {},
     "outputs": []
    }
   ],
   "metadata": {}
  }
 ]
}